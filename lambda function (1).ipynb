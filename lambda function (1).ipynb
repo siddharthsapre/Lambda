{
 "cells": [
  {
   "cell_type": "code",
   "execution_count": 9,
   "id": "9c3a194c-d024-46e6-aa63-3fb324a4d0b5",
   "metadata": {},
   "outputs": [],
   "source": [
    "n = 3\n",
    "p = 2"
   ]
  },
  {
   "cell_type": "code",
   "execution_count": 10,
   "id": "bec8c526-96a7-4d69-abb5-0d6551308987",
   "metadata": {},
   "outputs": [],
   "source": [
    "def test(n,p):\n",
    "    return n**p"
   ]
  },
  {
   "cell_type": "code",
   "execution_count": 11,
   "id": "24f8e234-4d6b-4496-8506-4585fc4953f6",
   "metadata": {},
   "outputs": [
    {
     "data": {
      "text/plain": [
       "9"
      ]
     },
     "execution_count": 11,
     "metadata": {},
     "output_type": "execute_result"
    }
   ],
   "source": [
    "test(3,2)"
   ]
  },
  {
   "cell_type": "code",
   "execution_count": 13,
   "id": "a935973c-31d9-4813-b642-c694052b9649",
   "metadata": {},
   "outputs": [],
   "source": [
    "a = lambda n, p :n**p"
   ]
  },
  {
   "cell_type": "code",
   "execution_count": 14,
   "id": "8c8be7db-9f32-4a98-946a-91d03615b7e4",
   "metadata": {},
   "outputs": [
    {
     "data": {
      "text/plain": [
       "9"
      ]
     },
     "execution_count": 14,
     "metadata": {},
     "output_type": "execute_result"
    }
   ],
   "source": [
    "a(3,2)"
   ]
  },
  {
   "cell_type": "code",
   "execution_count": 15,
   "id": "ff919513-7038-4195-8970-f8a7b6cdba9b",
   "metadata": {},
   "outputs": [],
   "source": [
    "add = lambda x,y : x+y "
   ]
  },
  {
   "cell_type": "code",
   "execution_count": 16,
   "id": "4b977339-897e-44c9-b0fc-b98afd79c14a",
   "metadata": {},
   "outputs": [
    {
     "data": {
      "text/plain": [
       "9"
      ]
     },
     "execution_count": 16,
     "metadata": {},
     "output_type": "execute_result"
    }
   ],
   "source": [
    "add(4,5)"
   ]
  },
  {
   "cell_type": "code",
   "execution_count": 17,
   "id": "cc847307-9bd8-450e-a685-709777f06422",
   "metadata": {},
   "outputs": [],
   "source": [
    "c_to_f = lambda c : (9/5)*c + 32"
   ]
  },
  {
   "cell_type": "code",
   "execution_count": 18,
   "id": "68ccbaa2-f6ae-4a8f-b9de-17737f6a90aa",
   "metadata": {},
   "outputs": [
    {
     "data": {
      "text/plain": [
       "113.0"
      ]
     },
     "execution_count": 18,
     "metadata": {},
     "output_type": "execute_result"
    }
   ],
   "source": [
    "c_to_f(45)"
   ]
  },
  {
   "cell_type": "code",
   "execution_count": 19,
   "id": "5843f821-b5e9-4885-a409-1c625012798e",
   "metadata": {},
   "outputs": [],
   "source": [
    "finding_max = lambda x,y : x if x>y else y "
   ]
  },
  {
   "cell_type": "code",
   "execution_count": 20,
   "id": "07f8dc43-cc7a-4bfb-8a0e-aef26888a459",
   "metadata": {},
   "outputs": [
    {
     "data": {
      "text/plain": [
       "34"
      ]
     },
     "execution_count": 20,
     "metadata": {},
     "output_type": "execute_result"
    }
   ],
   "source": [
    "finding_max(34,23)"
   ]
  },
  {
   "cell_type": "code",
   "execution_count": 21,
   "id": "c0271b52-9f3a-4893-9d08-54c82ce55b32",
   "metadata": {},
   "outputs": [],
   "source": [
    "s = \"pwskills\""
   ]
  },
  {
   "cell_type": "code",
   "execution_count": 22,
   "id": "ecd5c22f-16e0-44f2-9bb9-69671845bd40",
   "metadata": {},
   "outputs": [],
   "source": [
    "find_len = lambda s : len(s)"
   ]
  },
  {
   "cell_type": "code",
   "execution_count": 23,
   "id": "6bcc463d-8016-4545-b859-a9ee2e723f2a",
   "metadata": {},
   "outputs": [
    {
     "data": {
      "text/plain": [
       "8"
      ]
     },
     "execution_count": 23,
     "metadata": {},
     "output_type": "execute_result"
    }
   ],
   "source": [
    "find_len(s)"
   ]
  },
  {
   "cell_type": "code",
   "execution_count": 1,
   "id": "828cd14b-1784-4033-8478-37d8e16f51cb",
   "metadata": {},
   "outputs": [],
   "source": [
    "l=[25,36,45,85,65]\n",
    "def sq(a):\n",
    "    return a**2"
   ]
  },
  {
   "cell_type": "code",
   "execution_count": 2,
   "id": "801ffc65-96c7-4da6-9d52-12a7878b66bc",
   "metadata": {},
   "outputs": [
    {
     "data": {
      "text/plain": [
       "[625, 1296, 2025, 7225, 4225]"
      ]
     },
     "execution_count": 2,
     "metadata": {},
     "output_type": "execute_result"
    }
   ],
   "source": [
    "list(map(sq,l))"
   ]
  },
  {
   "cell_type": "code",
   "execution_count": 4,
   "id": "aa4b51ca-9acb-424e-9933-e6a77b2282e6",
   "metadata": {},
   "outputs": [
    {
     "data": {
      "text/plain": [
       "[625, 1296, 2025, 7225, 4225]"
      ]
     },
     "execution_count": 4,
     "metadata": {},
     "output_type": "execute_result"
    }
   ],
   "source": [
    "list(map(lambda x: x**2,l))"
   ]
  },
  {
   "cell_type": "code",
   "execution_count": 12,
   "id": "c2bb375c-be5e-4a88-a778-16ba31426120",
   "metadata": {},
   "outputs": [],
   "source": [
    "l1=[25,26,27,28,29,30]\n",
    "l2=[30,65,25,45,85,65]"
   ]
  },
  {
   "cell_type": "code",
   "execution_count": 16,
   "id": "5577c051-a9e7-4f67-add0-90eabcdbc37b",
   "metadata": {},
   "outputs": [],
   "source": [
    "def add(l1,l2):\n",
    "    return l1+l2\n"
   ]
  },
  {
   "cell_type": "code",
   "execution_count": 17,
   "id": "5b14c936-906a-4c17-a401-8d2e6b6558bb",
   "metadata": {},
   "outputs": [
    {
     "data": {
      "text/plain": [
       "[55, 91, 52, 73, 114, 95]"
      ]
     },
     "execution_count": 17,
     "metadata": {},
     "output_type": "execute_result"
    }
   ],
   "source": [
    "list(map(add,l1,l2))"
   ]
  },
  {
   "cell_type": "code",
   "execution_count": 19,
   "id": "45b5a139-0c9e-4a11-86b1-8f2237fbf92a",
   "metadata": {},
   "outputs": [
    {
     "data": {
      "text/plain": [
       "[55, 91, 52, 73, 114, 95]"
      ]
     },
     "execution_count": 19,
     "metadata": {},
     "output_type": "execute_result"
    }
   ],
   "source": [
    "list(map(lambda x,y:x+y,l1,l2))"
   ]
  },
  {
   "cell_type": "code",
   "execution_count": 20,
   "id": "19b62e39-8669-49eb-8b95-0c0fa68d167f",
   "metadata": {},
   "outputs": [],
   "source": [
    "def string(a):\n",
    "    for i in a:\n",
    "        return i\n",
    "    "
   ]
  },
  {
   "cell_type": "code",
   "execution_count": 26,
   "id": "a6588c18-9542-48fc-b08c-62c9813ea2d1",
   "metadata": {},
   "outputs": [
    {
     "data": {
      "text/plain": [
       "<str_iterator at 0x7fd011397c10>"
      ]
     },
     "execution_count": 26,
     "metadata": {},
     "output_type": "execute_result"
    }
   ],
   "source": [
    "a=\"siddh7arth7\"\n",
    "iter(a)"
   ]
  },
  {
   "cell_type": "code",
   "execution_count": 28,
   "id": "c2a8f14a-b51c-4e1c-b6e5-24187a7217be",
   "metadata": {},
   "outputs": [
    {
     "data": {
      "text/plain": [
       "['s', 'i', 'd', 'd', 'h', '7', 'a', 'r', 't', 'h', '7']"
      ]
     },
     "execution_count": 28,
     "metadata": {},
     "output_type": "execute_result"
    }
   ],
   "source": [
    "list(map(string,a))"
   ]
  },
  {
   "cell_type": "code",
   "execution_count": 29,
   "id": "efc4d6f2-eef9-42eb-9265-a5c387226d96",
   "metadata": {},
   "outputs": [
    {
     "ename": "TypeError",
     "evalue": "'str' object is not an iterator",
     "output_type": "error",
     "traceback": [
      "\u001b[0;31m---------------------------------------------------------------------------\u001b[0m",
      "\u001b[0;31mTypeError\u001b[0m                                 Traceback (most recent call last)",
      "Cell \u001b[0;32mIn[29], line 1\u001b[0m\n\u001b[0;32m----> 1\u001b[0m \u001b[38;5;28;43mlist\u001b[39;49m\u001b[43m(\u001b[49m\u001b[38;5;28;43mmap\u001b[39;49m\u001b[43m(\u001b[49m\u001b[38;5;28;43;01mlambda\u001b[39;49;00m\u001b[43m \u001b[49m\u001b[43mk\u001b[49m\u001b[43m:\u001b[49m\u001b[43m \u001b[49m\u001b[38;5;28;43mnext\u001b[39;49m\u001b[43m(\u001b[49m\u001b[43mk\u001b[49m\u001b[43m)\u001b[49m\u001b[43m \u001b[49m\u001b[43m,\u001b[49m\u001b[43ma\u001b[49m\u001b[43m)\u001b[49m\u001b[43m)\u001b[49m\n",
      "Cell \u001b[0;32mIn[29], line 1\u001b[0m, in \u001b[0;36m<lambda>\u001b[0;34m(k)\u001b[0m\n\u001b[0;32m----> 1\u001b[0m \u001b[38;5;28mlist\u001b[39m(\u001b[38;5;28mmap\u001b[39m(\u001b[38;5;28;01mlambda\u001b[39;00m k: \u001b[38;5;28;43mnext\u001b[39;49m\u001b[43m(\u001b[49m\u001b[43mk\u001b[49m\u001b[43m)\u001b[49m ,a))\n",
      "\u001b[0;31mTypeError\u001b[0m: 'str' object is not an iterator"
     ]
    }
   ],
   "source": [
    "list(map(lambda k: next(k) ,a))"
   ]
  },
  {
   "cell_type": "code",
   "execution_count": 3,
   "id": "d0f8ec78-a6d2-4001-84c2-78109730ea72",
   "metadata": {},
   "outputs": [
    {
     "ename": "SyntaxError",
     "evalue": "invalid syntax (1969818540.py, line 1)",
     "output_type": "error",
     "traceback": [
      "\u001b[0;36m  Cell \u001b[0;32mIn[3], line 1\u001b[0;36m\u001b[0m\n\u001b[0;31m    from function tools import reduce\u001b[0m\n\u001b[0m                  ^\u001b[0m\n\u001b[0;31mSyntaxError\u001b[0m\u001b[0;31m:\u001b[0m invalid syntax\n"
     ]
    }
   ],
   "source": []
  },
  {
   "cell_type": "code",
   "execution_count": 6,
   "id": "471384a3-edef-4085-a830-bad4b8624c7e",
   "metadata": {},
   "outputs": [],
   "source": [
    "from functools import reduce"
   ]
  },
  {
   "cell_type": "code",
   "execution_count": 6,
   "id": "f39400ba-f486-48fb-89b1-71ed8471cb18",
   "metadata": {},
   "outputs": [],
   "source": [
    "l=[25,26,65,35,45,85]"
   ]
  },
  {
   "cell_type": "code",
   "execution_count": 7,
   "id": "f41a4cff-6c4b-432a-8c00-969050eebc2e",
   "metadata": {},
   "outputs": [
    {
     "data": {
      "text/plain": [
       "281"
      ]
     },
     "execution_count": 7,
     "metadata": {},
     "output_type": "execute_result"
    }
   ],
   "source": [
    "reduce(lambda x,y:x+y,l)"
   ]
  },
  {
   "cell_type": "code",
   "execution_count": 8,
   "id": "1e0ffad2-dfe2-494f-8b6a-fa617aaab01b",
   "metadata": {},
   "outputs": [
    {
     "data": {
      "text/plain": [
       "5656218750"
      ]
     },
     "execution_count": 8,
     "metadata": {},
     "output_type": "execute_result"
    }
   ],
   "source": [
    "reduce(lambda x,y:x*y,l)"
   ]
  },
  {
   "cell_type": "code",
   "execution_count": 9,
   "id": "6d66084c-97cd-449e-bd98-2e61a3cedc80",
   "metadata": {},
   "outputs": [
    {
     "data": {
      "text/plain": [
       "85"
      ]
     },
     "execution_count": 9,
     "metadata": {},
     "output_type": "execute_result"
    }
   ],
   "source": [
    "reduce(lambda x,y: x if x>y else y,l)"
   ]
  },
  {
   "cell_type": "code",
   "execution_count": 10,
   "id": "994e9f3b-609a-443b-bfeb-c3b3dfb7a481",
   "metadata": {},
   "outputs": [
    {
     "data": {
      "text/plain": [
       "<str_iterator at 0x7fe3d4114d30>"
      ]
     },
     "execution_count": 10,
     "metadata": {},
     "output_type": "execute_result"
    }
   ],
   "source": [
    "s=\"string4\"\n",
    "iter(s)"
   ]
  },
  {
   "cell_type": "code",
   "execution_count": 16,
   "id": "d2e42523-d359-40d9-979a-0d781473a9eb",
   "metadata": {},
   "outputs": [],
   "source": [
    "def str(s):\n",
    "    for i in s:\n",
    "        return i"
   ]
  },
  {
   "cell_type": "code",
   "execution_count": 18,
   "id": "c524ca46-c444-41ee-a0dc-3bfecac1da1d",
   "metadata": {},
   "outputs": [
    {
     "data": {
      "text/plain": [
       "['s', 't', 'r', 'i', 'n', 'g', '4']"
      ]
     },
     "execution_count": 18,
     "metadata": {},
     "output_type": "execute_result"
    }
   ],
   "source": [
    "list(map(str,s))"
   ]
  },
  {
   "cell_type": "code",
   "execution_count": 4,
   "id": "9aa0976f-6299-4f2a-8279-c30a03ae979e",
   "metadata": {},
   "outputs": [],
   "source": [
    "l=[25,26,27,28,29,30]\n",
    "k=[52,65,85,65,45,95]"
   ]
  },
  {
   "cell_type": "code",
   "execution_count": 10,
   "id": "939d4218-001f-459a-92a8-ab1776e0e83b",
   "metadata": {},
   "outputs": [
    {
     "data": {
      "text/plain": [
       "[77, 91, 112, 93, 74, 125]"
      ]
     },
     "execution_count": 10,
     "metadata": {},
     "output_type": "execute_result"
    }
   ],
   "source": [
    "list(map(lambda x,y:x+y,l,k))"
   ]
  },
  {
   "cell_type": "code",
   "execution_count": null,
   "id": "18dc3701-75de-460e-84c6-09d0e63acbb1",
   "metadata": {},
   "outputs": [],
   "source": []
  }
 ],
 "metadata": {
  "kernelspec": {
   "display_name": "Python 3 (ipykernel)",
   "language": "python",
   "name": "python3"
  },
  "language_info": {
   "codemirror_mode": {
    "name": "ipython",
    "version": 3
   },
   "file_extension": ".py",
   "mimetype": "text/x-python",
   "name": "python",
   "nbconvert_exporter": "python",
   "pygments_lexer": "ipython3",
   "version": "3.10.8"
  }
 },
 "nbformat": 4,
 "nbformat_minor": 5
}
